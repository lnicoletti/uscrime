{
 "cells": [
  {
   "cell_type": "code",
   "execution_count": null,
   "metadata": {},
   "outputs": [],
   "source": []
  },
  {
   "cell_type": "code",
   "execution_count": null,
   "metadata": {},
   "outputs": [],
   "source": []
  },
  {
   "cell_type": "code",
   "execution_count": null,
   "metadata": {},
   "outputs": [],
   "source": []
  },
  {
   "cell_type": "code",
   "execution_count": null,
   "metadata": {},
   "outputs": [],
   "source": []
  },
  {
   "cell_type": "code",
   "execution_count": null,
   "metadata": {},
   "outputs": [],
   "source": [
    "#MODEL JAGS:\n",
    "\n",
    "modelstring <- \"model{\"\n",
    "\n",
    "\n",
    "#likelihood\n",
    "for (i in 1:n){\n",
    "y[i] ~ dnorm(mu[i], inv.var) #insert function that represents distribution of crime \n",
    "\n",
    "#~ means approximatively but not determined\n",
    "#next we have:\n",
    "mu[i] <- beta[1]*trees[i] + beta[2]*streetlights[i] + beta[3]*trashcans + 100\n",
    "}\n",
    "\n",
    "#prior for beta (range of values that we think represent each coefficient)\n",
    "#for (j in 2:4){\n",
    "#beta[j] ~ dnorm(0,0.001) #example (dnorm(mean, stdv))\n",
    "#}\n",
    "\n",
    "#OR one prior for each beta\n",
    "beta[1] ~ dnorm(0, 0.001)\n",
    "beta[2] ~ dnorm(0, 0.002)\n",
    "beta[3] ~ dnorm(0, 0.003)\n",
    "\n",
    "###instead of for loop: could have a function for each prior for each beta (our case, if we think that for example trees are positively correlated, and lights are negatively correlated)\n",
    "\n",
    "#prior for the inverse variance (or variance)\n",
    "inv.var ~ dgamma(0.01, 0.0001)\n",
    "sigma <- 1/sqrt(inv.var)\n",
    "}\" END OF MODEL\n",
    "\n",
    "\n",
    "+ epsilon[i]\n",
    "epsilon ~ dnorm(0, 0.001)"
   ]
  }
 ],
 "metadata": {
  "kernelspec": {
   "display_name": "R",
   "language": "R",
   "name": "ir"
  },
  "language_info": {
   "codemirror_mode": "r",
   "file_extension": ".r",
   "mimetype": "text/x-r-source",
   "name": "R",
   "pygments_lexer": "r",
   "version": "3.6.1"
  }
 },
 "nbformat": 4,
 "nbformat_minor": 4
}
