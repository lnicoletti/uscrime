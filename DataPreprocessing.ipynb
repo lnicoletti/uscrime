{
 "cells": [
  {
   "cell_type": "markdown",
   "metadata": {},
   "source": [
    "# Crime and public infrastructure in coastal US cities\n",
    "By Leonardo Nicoletti and Caroline Cullinan\n",
    "\n",
    "### To what extent do elements of the urban fabric influence crime rates in major US cities?\n",
    "Internationally, crime devastates countries. Increased crime results in harmful effects for legal economies. Investments from foreign and domestic sources are discouraged, and firms become less competitive as a result of crime. Crime also threatens the personal security of a country’s citizens, thus negatively impacting the overall health and well-being of individuals. Those victimized by crime experience mental-health disorders such as insomnia, depression, and anxiety at increased rates. Therefore, the negative health effects associated with crime can contribute to social disengagement, thus weakening overall social cohesion of communities. \n",
    "\n",
    "In order to address perpetuators of crime, Wilson & Kelling proposed the “broken window theory” (1982). Such theory disputes that regardless of neighborhood, neglected property encourages further neglect and destruction of property. Such theory insists that increased incidents of crime are associated with increased instances of community neglect. Further argued, the “broken window theory” suggests that minor forms of neglect, such as garbage-littered streets and broken street lamps, have the greatest contributions to criminal activity, for the existence of disorder may allude that the actions of individuals’ go unaccounted for. \n",
    "\n",
    "To test the relevance of this theory in current times, the relationship between crime and elements of the urban fabric that contribute to the “cleanliness” and “care” of streets are assessed across five United States (US) cities; San Francisco, Los Angeles, Boston, Philadelphia, and Washington D.C.. Such analysis examines if trash can availability, street light presence, and the existence of trees in urban communities relate to crime.  With the use of a predictive model, such analysis also examines if the existence of such elements (trash cans, street lights, and trees) can predict instances of crime.\n",
    "\n",
    "\n"
   ]
  },
  {
   "cell_type": "markdown",
   "metadata": {},
   "source": [
    "## Part 1: Data Preprocessing"
   ]
  },
  {
   "cell_type": "code",
   "execution_count": null,
   "metadata": {},
   "outputs": [],
   "source": [
    "#let's start by setting our directory and importing relevant packages\n",
    "setwd(\"C:/Users/Leonardo/Documents/TU_Delft/EPA_Year1/EPA1315/FinalProject\")\n",
    "#install required For this project\n",
    "install.packages(c('wesanderson', 'RColorBrewer', 'sf', 'ggmap', 'maps', 'mapdata', \n",
    "                   'rgeos', 'tidyverse', 'lwgeom', 'stringr', 'plotly', 'fastDummies')\n",
    "#Libraries required For this project\n",
    "library(fastDummies)\n",
    "library(rgdal)\n",
    "library(ggplot2)\n",
    "library(wesanderson)\n",
    "library(RColorBrewer)\n",
    "library(sf)\n",
    "library(ggplot2)\n",
    "library(ggmap)\n",
    "library(maps)\n",
    "library(mapdata)\n",
    "library(rgeos)\n",
    "library(tidyverse)\n",
    "library(lwgeom)\n",
    "library(stringr)\n",
    "library(dplyr)"
   ]
  },
  {
   "cell_type": "markdown",
   "metadata": {},
   "source": [
    "### 1.1 San Francisco"
   ]
  },
  {
   "cell_type": "code",
   "execution_count": null,
   "metadata": {},
   "outputs": [],
   "source": [
    "#now let's import data for san francisco\n",
    "#Open SF public infrastructure assets\n",
    "SF_assets <- st_read(\"Data/SF/Assets/geo_export_d7f59e21-8bca-42e3-b982-a40615a1dba7.shp\")\n",
    "#open SF trees\n",
    "SF_trees <- st_read(\"Data/SF/Trees/geo_export_23873827-8da7-4487-9fe7-bf9ce37d7c7d.shp\")\n",
    "#open SF precincts\n",
    "SF_prcnts <- st_read(\"Data/SF/Precincts/geo_export_0665516f-f29b-4978-8f0a-b270abce6a43.shp\")\n",
    "#open SF crime\n",
    "SF_crime <- st_read(\"Data/SF/Crime/geo_export_63c82a7d-2120-4694-9aab-8c844c26bd1e.shp\")"
   ]
  },
  {
   "cell_type": "code",
   "execution_count": null,
   "metadata": {},
   "outputs": [],
   "source": [
    "#reproject spatial layers\n",
    "SF_prcnts <- st_transform(SF_prcnts, \"+proj=longlat +datum=WGS84 +no_defs\")\n",
    "SF_assets <- st_transform(SF_assets, \"+proj=longlat +datum=WGS84 +no_defs\")\n",
    "SF_trcts <- st_transform(SF_trcts, \"+proj=longlat +datum=WGS84 +no_defs\")\n",
    "SF_crime <- st_transform(SF_crime, \"+proj=longlat +datum=WGS84 +no_defs\")\n",
    "SF_trees <- st_transform(SF_trees, \"+proj=longlat +datum=WGS84 +no_defs\")\n",
    "#check that all spatial layers are in the same coordinate system\n",
    "st_crs(SF_assets)\n",
    "st_crs(SF_trcts)\n",
    "st_crs(SF_crime)\n",
    "st_crs(SF_trees)\n",
    "st_crs(SF_prcnts)"
   ]
  },
  {
   "cell_type": "code",
   "execution_count": 78,
   "metadata": {},
   "outputs": [],
   "source": [
    "#SF_assets has information about many types of public assets (trash cans, benches, light posts etc.)\n",
    "#levels(SF_assets$asset_type)\n",
    "#let's extract the public assets of interest for our analysis (\"Trash Can\" and \"Lamp Post\")\n",
    "#SF_trashcans\n",
    "SF_trashcans <- SF_assets %>%\n",
    "  dplyr::select(asset_type, geometry) %>%   \n",
    "  filter(str_detect(asset_type, c('Trash Can')))\n",
    "SF_trashcans$trashcount <- 1\n",
    "\n",
    "#SF_streetlights\n",
    "SF_streetlights <- SF_assets %>%\n",
    "  dplyr::select(asset_type, geometry) %>%   \n",
    "  filter(str_detect(asset_type, c('Lamp Post')))\n",
    "SF_streetlights$lightcount <- 1\n",
    "\n",
    "#now let's clean up our other layers to include only columns of interest\n",
    "#precincts\n",
    "SF_prcnts <- select(SF_prcnts, 'neighrep', 'prec_2012', 'geometry')\n",
    "#trees\n",
    "SF_trees <- subset(SF_trees, is.na(SF_trees$xcoord) == FALSE) \n",
    "SF_trees <- select(SF_trees, 'treeid', 'xcoord', 'ycoord', 'geometry')\n",
    "SF_trees$treecount <- 1\n",
    "#crime\n",
    "SF_crime <- subset(SF_crime, is.na(SF_crime$supervisor) == FALSE)\n",
    "SF_crime <- select(SF_crime, 'analysis_n','geometry')\n",
    "SF_crime$crimecount <- 1"
   ]
  },
  {
   "cell_type": "code",
   "execution_count": 79,
   "metadata": {},
   "outputs": [],
   "source": [
    "#let's write a function that takes in all the variables, performs spatial joins on points inside a given geometry (precincts), and summarizes \n",
    "#by geometry\n",
    "\n",
    "SF_trct_varsfunc <- function(geom, var1, var2, var3, var4) {\n",
    "    #var1=trees; var2=crime; var3=streetlights; var4=trashcans\n",
    "    #join first variable\n",
    "    SF_trcts_var1 <- st_join(geom, left = TRUE, var1[length(var1)])\n",
    "    SF_trcts_var1 <- group_by(SF_trcts_var1, neighrep, prec_2012)\n",
    "    SF_trcts_var1 <- summarise(SF_trcts_var1, treecount = sum(treecount))\n",
    "    #join second variable\n",
    "    SF_trcts_var12 <- st_join(SF_trcts_var1, left = TRUE, var2[length(var2)])\n",
    "    SF_trcts_var12 <- group_by(SF_trcts_var12, neighrep, prec_2012, treecount)\n",
    "    SF_trcts_var12 <- summarise(SF_trcts_var12, crimecount = sum(crimecount))\n",
    "    #join third variable\n",
    "    SF_trcts_var123 <- st_join(SF_trcts_var12, left = TRUE, var3[length(var3)])\n",
    "    SF_trcts_var123 <- group_by(SF_trcts_var123, neighrep, prec_2012, treecount, crimecount)\n",
    "    SF_trcts_var123 <- summarise(SF_trcts_var123, lightcount = sum(lightcount))\n",
    "    #join fourth variable\n",
    "    SF_trcts_var1234 <- st_join(SF_trcts_var123, left = TRUE, var4[length(var4)])\n",
    "    SF_trcts_var1234 <- group_by(SF_trcts_var1234, neighrep, prec_2012, treecount, crimecount, lightcount)\n",
    "    SF_trcts_var1234 <- summarise(SF_trcts_var1234, trashcount = sum(trashcount))\n",
    "\n",
    "    #replace NA values with 0 (meaning that the count for a given var is 0 if there was no point within a polygon)\n",
    "    SF_trcts_var1234[is.na(SF_trcts_var1234)] <- 0\n",
    "    SF_trcts_vars <- SF_trcts_var1234\n",
    "   return(SF_trcts_vars)\n",
    "}"
   ]
  },
  {
   "cell_type": "code",
   "execution_count": null,
   "metadata": {},
   "outputs": [],
   "source": [
    "#running our function for san francisco\n",
    "SF_prcnts_vars <- SF_trct_varsfunc(SF_prcnts, SF_trees, SF_crime, SF_streetlights, SF_trashcans)\n",
    "#save file\n",
    "st_write(SF_prcnts_vars, \"Data/SF/ProcessedData/SF_prcnts_vars.shp\")"
   ]
  },
  {
   "cell_type": "markdown",
   "metadata": {},
   "source": [
    "#### Minimizing error and normalizing our data\n",
    "\n",
    "Because census tracts all differ in sizes, it's easy to misrepresent the intensity of our variables. In order to avoid this, we first need to normalize our variables by area. For each variable, we divide the row values by the tract area.\n",
    "\n",
    "Next, we also need to normalize our variables so that they can be compared among eachother. For this we will use R's standardize function, which will put all variables on the same scale."
   ]
  },
  {
   "cell_type": "code",
   "execution_count": null,
   "metadata": {},
   "outputs": [],
   "source": [
    "#first we calculate the area of each tract in km2\n",
    "SF_prcnts_vars$km2 <- as.numeric((st_area(SF_prcnts_vars)/1000000))\n",
    "#next we divide each variable by the tract area\n",
    "SF_prcnts_vars$crimecount <- SF_prcnts_vars$crimecount/SF_prcnts_vars$km2\n",
    "SF_prcnts_vars$lightcount <- SF_prcnts_vars$lightcount/SF_prcnts_vars$km2\n",
    "SF_prcnts_vars$trashcount <- SF_prcnts_vars$trashcount/SF_prcnts_vars$km2\n",
    "SF_prcnts_vars$treecount <- SF_prcnts_vars$treecount/SF_prcnts_vars$km2\n",
    "#reorder dataframe\n",
    "SF_prcnts_vars <- SF_prcnts_vars[,c('treecount','crimecount','lightcount','trashcount', 'neighrep', 'prec_2012', 'geometry', 'km2')]\n",
    "#save file\n",
    "st_write(SF_prcnts_vars, \"Data/SF/ProcessedData/SF_prcnts_vars_norm.shp\")"
   ]
  },
  {
   "cell_type": "markdown",
   "metadata": {},
   "source": [
    "### 1.2 Los Angeles"
   ]
  },
  {
   "cell_type": "code",
   "execution_count": 27,
   "metadata": {},
   "outputs": [
    {
     "name": "stdout",
     "output_type": "stream",
     "text": [
      "Reading layer `geo_export_179d7440-79b6-4137-b1d8-8ff5286a9b47' from data source `C:\\Users\\Leonardo\\Documents\\TU_Delft\\EPA_Year1\\EPA1315\\FinalProject\\Data\\LA\\StreetLights\\geo_export_179d7440-79b6-4137-b1d8-8ff5286a9b47.shp' using driver `ESRI Shapefile'\n",
      "Simple feature collection with 216694 features and 11 fields\n",
      "geometry type:  POINT\n",
      "dimension:      XY\n",
      "bbox:           xmin: -118.6681 ymin: 33.70677 xmax: -118.1551 ymax: 34.33452\n",
      "epsg (SRID):    4326\n",
      "proj4string:    +proj=longlat +ellps=WGS84 +no_defs\n",
      "Reading layer `LA_City_Receptacles' from data source `C:\\Users\\Leonardo\\Documents\\TU_Delft\\EPA_Year1\\EPA1315\\FinalProject\\Data\\LA\\TrashCans\\LA_City_Receptacles.shp' using driver `ESRI Shapefile'\n",
      "Simple feature collection with 9713 features and 10 fields\n",
      "geometry type:  POINT\n",
      "dimension:      XY\n",
      "bbox:           xmin: -118.657 ymin: 33.70693 xmax: -118.1555 ymax: 34.32207\n",
      "epsg (SRID):    4326\n",
      "proj4string:    +proj=longlat +datum=WGS84 +no_defs\n",
      "Reading layer `output' from data source `C:\\Users\\Leonardo\\Documents\\TU_Delft\\EPA_Year1\\EPA1315\\FinalProject\\Data\\LA\\Trees\\output.shp' using driver `ESRI Shapefile'\n",
      "Simple feature collection with 635558 features and 5 fields\n",
      "geometry type:  POINT\n",
      "dimension:      XY\n",
      "bbox:           xmin: -118.6681 ymin: 33.70627 xmax: -118.1556 ymax: 34.33334\n",
      "epsg (SRID):    4326\n",
      "proj4string:    +proj=longlat +datum=WGS84 +no_defs\n",
      "Reading layer `Neighborhood_Council_Boundaries_2018' from data source `C:\\Users\\Leonardo\\Documents\\TU_Delft\\EPA_Year1\\EPA1315\\FinalProject\\Data\\LA\\CensusTracts\\Neighborhood_Council_Boundaries_2018.shp' using driver `ESRI Shapefile'\n",
      "Simple feature collection with 96 features and 21 fields\n",
      "geometry type:  MULTIPOLYGON\n",
      "dimension:      XY\n",
      "bbox:           xmin: -118.6682 ymin: 33.70374 xmax: -117.6574 ymax: 34.91416\n",
      "epsg (SRID):    4326\n",
      "proj4string:    +proj=longlat +datum=WGS84 +no_defs\n"
     ]
    }
   ],
   "source": [
    "#now let's import data for Los Angeles\n",
    "#Open LA public streetlights\n",
    "LA_streetlights <- st_read(\"Data/LA/StreetLights/geo_export_179d7440-79b6-4137-b1d8-8ff5286a9b47.shp\")\n",
    "#open LA trashcans\n",
    "LA_trashcans <- st_read(\"Data/LA/TrashCans/LA_City_Receptacles.shp\")\n",
    "#open LA trees\n",
    "LA_trees <- st_read(\"Data/LA/Trees/output.shp\")\n",
    "#open LA precincts\n",
    "LA_prcnts <- st_read(\"Data/LA/Precincts/geo_export_bc1bd767-83ec-499a-98e7-5fdacb39b78c.shp\")\n",
    "#open LA census tracts\n",
    "LA_trcts <- st_read(\"Data/LA/CensusTracts/Neighborhood_Council_Boundaries_2018.shp\")\n",
    "#open LA crime\n",
    "LA_crime <- read_csv(\"Data/LA/Crime/Crime_Data_from_2010_to_Present.csv\")"
   ]
  },
  {
   "cell_type": "code",
   "execution_count": 25,
   "metadata": {},
   "outputs": [
    {
     "name": "stderr",
     "output_type": "stream",
     "text": [
      "Warning message in abbreviate_shapefile_names(obj):\n",
      "\"Field names abbreviated for ESRI Shapefile driver\""
     ]
    },
    {
     "name": "stdout",
     "output_type": "stream",
     "text": [
      "Writing layer `Crime_Data_from_2018_to_Present' to data source `Data/LA/Crime/Crime_Data_from_2018_to_Present.shp' using driver `ESRI Shapefile'\n",
      "Writing 402802 features with 29 fields and geometry type Point.\n"
     ]
    }
   ],
   "source": [
    "#subset LA_crime for 2018 and onwards\n",
    "LA_crime <- LA_crime %>% separate('DATE OCC', into = paste0('DATE OCC', 1:4), sep = '[/ ]')\n",
    "LA_crime <- subset(LA_crime, LA_crime['DATE OCC3'] == '2018' | LA_crime['DATE OCC3'] == '2019')\n",
    "\n",
    "#convert crime csv to geospatial object\n",
    "LA_crime <- st_as_sf(LA_crime, coords = c(\"LON\", \"LAT\"), \n",
    "                 crs = 4326, agr = \"constant\")\n",
    "\n",
    "st_write(LA_crime,'Data/LA/Crime/Crime_Data_from_2018_to_Present.shp')"
   ]
  },
  {
   "cell_type": "code",
   "execution_count": 85,
   "metadata": {},
   "outputs": [
    {
     "data": {
      "text/plain": [
       "Coordinate Reference System:\n",
       "  EPSG: 4326 \n",
       "  proj4string: \"+proj=longlat +datum=WGS84 +no_defs\""
      ]
     },
     "metadata": {},
     "output_type": "display_data"
    },
    {
     "data": {
      "text/plain": [
       "Coordinate Reference System:\n",
       "  EPSG: 4326 \n",
       "  proj4string: \"+proj=longlat +datum=WGS84 +no_defs\""
      ]
     },
     "metadata": {},
     "output_type": "display_data"
    },
    {
     "data": {
      "text/plain": [
       "Coordinate Reference System:\n",
       "  EPSG: 4326 \n",
       "  proj4string: \"+proj=longlat +datum=WGS84 +no_defs\""
      ]
     },
     "metadata": {},
     "output_type": "display_data"
    },
    {
     "data": {
      "text/plain": [
       "Coordinate Reference System:\n",
       "  EPSG: 4326 \n",
       "  proj4string: \"+proj=longlat +datum=WGS84 +no_defs\""
      ]
     },
     "metadata": {},
     "output_type": "display_data"
    },
    {
     "data": {
      "text/plain": [
       "Coordinate Reference System:\n",
       "  EPSG: 4326 \n",
       "  proj4string: \"+proj=longlat +datum=WGS84 +no_defs\""
      ]
     },
     "metadata": {},
     "output_type": "display_data"
    },
    {
     "data": {
      "text/plain": [
       "Coordinate Reference System:\n",
       "  EPSG: 4326 \n",
       "  proj4string: \"+proj=longlat +datum=WGS84 +no_defs\""
      ]
     },
     "metadata": {},
     "output_type": "display_data"
    }
   ],
   "source": [
    "#reproject streetlights and precincts to common coordinate system\n",
    "LA_streetlights <- st_transform(LA_streetlights, \"+proj=longlat +datum=WGS84 +no_defs\")\n",
    "LA_prcnts <- st_transform(LA_prcnts, \"+proj=longlat +datum=WGS84 +no_defs\")\n",
    "#check that all spatial layers are in the same coordinate system\n",
    "st_crs(LA_streetlights)\n",
    "st_crs(LA_trashcans)\n",
    "st_crs(LA_trees)\n",
    "st_crs(LA_trcts)\n",
    "st_crs(LA_prcnts)\n",
    "st_crs(LA_crime)"
   ]
  },
  {
   "cell_type": "code",
   "execution_count": 86,
   "metadata": {},
   "outputs": [],
   "source": [
    "#now let's clean up our layers to include only columns of interest\n",
    "#tracts layer\n",
    "LA_trcts <- select(LA_trcts, 'Name', 'geometry')\n",
    "LA_prcnts <- select(LA_prcnts, 'cnsld', 'geometry')\n",
    "#trashcans\n",
    "LA_trashcans <- select(LA_trashcans, 'LAPDGrid', 'geometry')\n",
    "LA_trashcans$trashcount <- 1\n",
    "#streetlights\n",
    "LA_streetlights <- select(LA_streetlights, 'stlid', 'geometry')\n",
    "LA_streetlights$lightcount <- 1\n",
    "#trees\n",
    "LA_trees <- select(LA_trees, 'TreeID', 'geometry')\n",
    "LA_trees$treecount <- 1\n",
    "#crime\n",
    "LA_crime <- select(LA_crime, 'Date Rptd','geometry')\n",
    "LA_crime$crimecount <- 1"
   ]
  },
  {
   "cell_type": "code",
   "execution_count": 87,
   "metadata": {},
   "outputs": [],
   "source": [
    "#let's write a function that takes in all the variables, perform spatial joins on points inside census tracts, and summarizes by census tract \n",
    "LA_prcnts_varsfunc <- function(geom, var1, var2, var3, var4) {\n",
    "    #var1=trees; var2=crime; var3=streetlights; var4=trashcans\n",
    "    #join first variable\n",
    "    SF_trcts_var1 <- st_join(geom, left = TRUE, var1[length(var1)])\n",
    "    SF_trcts_var1 <- group_by(SF_trcts_var1, cnsld)\n",
    "    SF_trcts_var1 <- summarise(SF_trcts_var1, treecount = sum(treecount))\n",
    "    #join second variable\n",
    "    SF_trcts_var12 <- st_join(SF_trcts_var1, left = TRUE, var2[length(var2)])\n",
    "    SF_trcts_var12 <- group_by(SF_trcts_var12, cnsld, treecount)\n",
    "    SF_trcts_var12 <- summarise(SF_trcts_var12, crimecount = sum(crimecount))\n",
    "    #join third variable\n",
    "    SF_trcts_var123 <- st_join(SF_trcts_var12, left = TRUE, var3[length(var3)])\n",
    "    SF_trcts_var123 <- group_by(SF_trcts_var123, cnsld, treecount, crimecount)\n",
    "    SF_trcts_var123 <- summarise(SF_trcts_var123, lightcount = sum(lightcount))\n",
    "    #join fourth variable\n",
    "    SF_trcts_var1234 <- st_join(SF_trcts_var123, left = TRUE, var4[length(var4)])\n",
    "    SF_trcts_var1234 <- group_by(SF_trcts_var1234, cnsld, treecount, crimecount, lightcount)\n",
    "    SF_trcts_var1234 <- summarise(SF_trcts_var1234, trashcount = sum(trashcount))\n",
    "\n",
    "    #replace NA values with 0 (meaning that the count for a given var is 0 if there was no point within a polygon)\n",
    "    SF_trcts_var1234[is.na(SF_trcts_var1234)] <- 0\n",
    "    SF_trcts_vars <- SF_trcts_var1234\n",
    "   return(SF_trcts_vars)\n",
    "}"
   ]
  },
  {
   "cell_type": "code",
   "execution_count": 88,
   "metadata": {},
   "outputs": [
    {
     "name": "stderr",
     "output_type": "stream",
     "text": [
      "although coordinates are longitude/latitude, st_intersects assumes that they are planar\n",
      "although coordinates are longitude/latitude, st_intersects assumes that they are planar\n",
      "although coordinates are longitude/latitude, st_intersects assumes that they are planar\n",
      "although coordinates are longitude/latitude, st_intersects assumes that they are planar\n"
     ]
    },
    {
     "name": "stdout",
     "output_type": "stream",
     "text": [
      "Writing layer `LA_prcnts_vars' to data source `Data/LA/ProcessedData/LA_prcnts_vars.shp' using driver `ESRI Shapefile'\n",
      "Writing 1627 features with 5 fields and geometry type Multi Polygon.\n"
     ]
    }
   ],
   "source": [
    "#running our spatial join function for Los Angeles\n",
    "LA_prcnts_vars <- LA_prcnts_varsfunc(LA_prcnts, LA_trees, LA_crime, LA_streetlights, LA_trashcans)\n",
    "#save file\n",
    "st_write(LA_prcnts_vars, \"Data/LA/ProcessedData/LA_prcnts_vars.shp\")"
   ]
  },
  {
   "cell_type": "markdown",
   "metadata": {},
   "source": [
    "#### normalizing our data by area"
   ]
  },
  {
   "cell_type": "code",
   "execution_count": 89,
   "metadata": {},
   "outputs": [
    {
     "name": "stdout",
     "output_type": "stream",
     "text": [
      "Writing layer `LA_prcnts_vars_norm' to data source `Data/LA/ProcessedData/LA_prcnts_vars_norm.shp' using driver `ESRI Shapefile'\n",
      "Writing 1627 features with 6 fields and geometry type Multi Polygon.\n"
     ]
    }
   ],
   "source": [
    "#first we calculate the area of each tract in km2\n",
    "LA_prcnts_vars$km2 <- as.numeric((st_area(LA_prcnts_vars)/1000000))\n",
    "#next we divide each variable by the tract area\n",
    "LA_prcnts_vars$crimecount <- LA_prcnts_vars$crimecount/LA_prcnts_vars$km2\n",
    "LA_prcnts_vars$lightcount <- LA_prcnts_vars$lightcount/LA_prcnts_vars$km2\n",
    "LA_prcnts_vars$trashcount <- LA_prcnts_vars$trashcount/LA_prcnts_vars$km2\n",
    "LA_prcnts_vars$treecount <- LA_prcnts_vars$treecount/LA_prcnts_vars$km2\n",
    "#reorder dataframe\n",
    "LA_prcnts_vars <- LA_prcnts_vars[,c('treecount','crimecount','lightcount','trashcount', 'cnsld', 'geometry', 'km2')]\n",
    "#save file\n",
    "st_write(LA_prcnts_vars, \"Data/LA/ProcessedData/LA_prcnts_vars_norm.shp\")"
   ]
  },
  {
   "cell_type": "markdown",
   "metadata": {},
   "source": [
    "### 1.2 Philadelphia"
   ]
  },
  {
   "cell_type": "code",
   "execution_count": 2,
   "metadata": {},
   "outputs": [
    {
     "name": "stdout",
     "output_type": "stream",
     "text": [
      "Reading layer `Street_Poles' from data source `C:\\Users\\Leonardo\\Documents\\TU_Delft\\EPA_Year1\\EPA1315\\FinalProject\\Data\\Philadelphia\\StreetLights\\Street_Poles.shp' using driver `ESRI Shapefile'\n",
      "Simple feature collection with 194749 features and 13 fields\n",
      "geometry type:  POINT\n",
      "dimension:      XY\n",
      "bbox:           xmin: -75.28108 ymin: 39.87517 xmax: -74.95891 ymax: 40.13786\n",
      "epsg (SRID):    4326\n",
      "proj4string:    +proj=longlat +datum=WGS84 +no_defs\n",
      "Reading layer `wastebaskets_big_belly' from data source `C:\\Users\\Leonardo\\Documents\\TU_Delft\\EPA_Year1\\EPA1315\\FinalProject\\Data\\Philadelphia\\TrashCans\\wastebaskets_big_belly.shp' using driver `ESRI Shapefile'\n",
      "Simple feature collection with 968 features and 4 fields\n",
      "geometry type:  POINT\n",
      "dimension:      XY\n",
      "bbox:           xmin: -75.27019 ymin: 39.91665 xmax: -75.03349 ymax: 40.07439\n",
      "epsg (SRID):    4326\n",
      "proj4string:    +proj=longlat +datum=WGS84 +no_defs\n",
      "Reading layer `WasteBaskets_Wire' from data source `C:\\Users\\Leonardo\\Documents\\TU_Delft\\EPA_Year1\\EPA1315\\FinalProject\\Data\\Philadelphia\\TrashCans\\WasteBaskets_Wire.shp' using driver `ESRI Shapefile'\n",
      "Simple feature collection with 352 features and 3 fields\n",
      "geometry type:  POINT\n",
      "dimension:      XY\n",
      "bbox:           xmin: -75.24303 ymin: 39.91937 xmax: -75.02811 ymax: 40.07613\n",
      "epsg (SRID):    4326\n",
      "proj4string:    +proj=longlat +datum=WGS84 +no_defs\n",
      "Reading layer `PPR_StreetTrees' from data source `C:\\Users\\Leonardo\\Documents\\TU_Delft\\EPA_Year1\\EPA1315\\FinalProject\\Data\\Philadelphia\\Trees\\PPR_StreetTrees.shp' using driver `ESRI Shapefile'\n",
      "Simple feature collection with 111993 features and 4 fields\n",
      "geometry type:  POINT\n",
      "dimension:      XY\n",
      "bbox:           xmin: -75.29749 ymin: 39.87698 xmax: -74.95878 ymax: 40.13745\n",
      "epsg (SRID):    4326\n",
      "proj4string:    +proj=longlat +datum=WGS84 +no_defs\n",
      "Reading layer `Political_Divisions' from data source `C:\\Users\\Leonardo\\Documents\\TU_Delft\\EPA_Year1\\EPA1315\\FinalProject\\Data\\Philadelphia\\Precincts\\Political_Divisions.shp' using driver `ESRI Shapefile'\n",
      "Simple feature collection with 1703 features and 5 fields\n",
      "geometry type:  POLYGON\n",
      "dimension:      XY\n",
      "bbox:           xmin: -75.28031 ymin: 39.86748 xmax: -74.95574 ymax: 40.13793\n",
      "epsg (SRID):    4326\n",
      "proj4string:    +proj=longlat +datum=WGS84 +no_defs\n",
      "Reading layer `incidents_part1_part2' from data source `C:\\Users\\Leonardo\\Documents\\TU_Delft\\EPA_Year1\\EPA1315\\FinalProject\\Data\\Philadelphia\\Crime\\incidents_part1_part2.shp' using driver `ESRI Shapefile'\n",
      "replacing null geometries with empty geometries\n",
      "Simple feature collection with 2677010 features and 13 fields (with 21006 geometries empty)\n",
      "geometry type:  POINT\n",
      "dimension:      XY\n",
      "bbox:           xmin: -75.27773 ymin: 39.86999 xmax: -74.9575 ymax: 40.13789\n",
      "epsg (SRID):    4326\n",
      "proj4string:    +proj=longlat +datum=WGS84 +no_defs\n"
     ]
    }
   ],
   "source": [
    "#now let's import data for Los Angeles\n",
    "#Open Philadelphia public streetlights\n",
    "PH_streetlights <- st_read(\"Data/Philadelphia/StreetLights/Street_Poles.shp\")\n",
    "#open Philadelphia trashcans - Big Belly\n",
    "PH_trashcans_bb <- st_read(\"Data/Philadelphia/TrashCans/wastebaskets_big_belly.shp\")\n",
    "#open Philadelphia trashcans - Wire\n",
    "PH_trashcans_w <- st_read(\"Data/Philadelphia/TrashCans/WasteBaskets_Wire.shp\")\n",
    "#open Philadelphia trees\n",
    "PH_trees <- st_read(\"Data/Philadelphia/Trees/PPR_StreetTrees.shp\")\n",
    "#open Philadelphia precincts\n",
    "PH_prcnts <- st_read(\"Data/Philadelphia/Precincts/Political_Divisions.shp\")\n",
    "#open Philadelphia crime\n",
    "PH_crime <- st_read(\"Data/Philadelphia/Crime/incidents_part1_part2.shp\")"
   ]
  },
  {
   "cell_type": "code",
   "execution_count": 8,
   "metadata": {},
   "outputs": [
    {
     "name": "stdout",
     "output_type": "stream",
     "text": [
      "Writing layer `Crime_Data_from_2018_to_Present' to data source `Data/Philadelphia/Crime/Crime_Data_from_2018_to_Present.shp' using driver `ESRI Shapefile'\n",
      "Writing 305220 features with 13 fields and geometry type Point.\n"
     ]
    }
   ],
   "source": [
    "#subset LA_crime for 2018 and onwards\n",
    "PH_crime <-  PH_crime[PH_crime$dispatch_d > as.Date(\"2018-01-01\"),]\n",
    "\n",
    "st_write(PH_crime,'Data/Philadelphia/Crime/Crime_Data_from_2018_to_Present.shp')"
   ]
  },
  {
   "cell_type": "code",
   "execution_count": 10,
   "metadata": {},
   "outputs": [
    {
     "data": {
      "text/plain": [
       "Coordinate Reference System:\n",
       "  EPSG: 4326 \n",
       "  proj4string: \"+proj=longlat +datum=WGS84 +no_defs\""
      ]
     },
     "metadata": {},
     "output_type": "display_data"
    },
    {
     "data": {
      "text/plain": [
       "Coordinate Reference System:\n",
       "  EPSG: 4326 \n",
       "  proj4string: \"+proj=longlat +datum=WGS84 +no_defs\""
      ]
     },
     "metadata": {},
     "output_type": "display_data"
    },
    {
     "data": {
      "text/plain": [
       "Coordinate Reference System:\n",
       "  EPSG: 4326 \n",
       "  proj4string: \"+proj=longlat +datum=WGS84 +no_defs\""
      ]
     },
     "metadata": {},
     "output_type": "display_data"
    },
    {
     "data": {
      "text/plain": [
       "Coordinate Reference System:\n",
       "  EPSG: 4326 \n",
       "  proj4string: \"+proj=longlat +datum=WGS84 +no_defs\""
      ]
     },
     "metadata": {},
     "output_type": "display_data"
    },
    {
     "data": {
      "text/plain": [
       "Coordinate Reference System:\n",
       "  EPSG: 4326 \n",
       "  proj4string: \"+proj=longlat +datum=WGS84 +no_defs\""
      ]
     },
     "metadata": {},
     "output_type": "display_data"
    },
    {
     "data": {
      "text/plain": [
       "Coordinate Reference System:\n",
       "  EPSG: 4326 \n",
       "  proj4string: \"+proj=longlat +datum=WGS84 +no_defs\""
      ]
     },
     "metadata": {},
     "output_type": "display_data"
    }
   ],
   "source": [
    "#check that all spatial layers are in the same coordinate system\n",
    "st_crs(PH_prcnts)\n",
    "st_crs(PH_crime)\n",
    "st_crs(PH_trees)\n",
    "st_crs(PH_trashcans_bb)\n",
    "st_crs(PH_trashcans_w)\n",
    "st_crs(PH_streetlights)"
   ]
  },
  {
   "cell_type": "code",
   "execution_count": 33,
   "metadata": {},
   "outputs": [],
   "source": [
    "#now let's clean up our layers to include only columns of interest\n",
    "#precincts layer\n",
    "PH_prcnts <- select(PH_prcnts, 'DIVISION_N', 'geometry')\n",
    "#merge big belly and wire trashcans\n",
    "PH_trashcans <- rbind(select(PH_trashcans_bb, 'geometry'), select(PH_trashcans_w, 'geometry'))\n",
    "PH_trashcans$trashcount <- 1\n",
    "#streetlights\n",
    "PH_streetlights <- select(PH_streetlights, 'POLE_NUM', 'geometry')\n",
    "PH_streetlights$lightcount <- 1\n",
    "#trees\n",
    "PH_trees <- select(PH_trees, 'OBJECTID', 'geometry')\n",
    "PH_trees$treecount <- 1\n",
    "#crime\n",
    "PH_crime <- select(PH_crime, 'dispatch_d','geometry')\n",
    "PH_crime$crimecount <- 1"
   ]
  },
  {
   "cell_type": "code",
   "execution_count": 35,
   "metadata": {},
   "outputs": [],
   "source": [
    "#let's write a function that takes in all the variables, perform spatial joins on points inside census tracts, and summarizes by census tract \n",
    "PH_prcnts_varsfunc <- function(geom, var1, var2, var3, var4) {\n",
    "    #var1=trees; var2=crime; var3=streetlights; var4=trashcans\n",
    "    #join first variable\n",
    "    SF_trcts_var1 <- st_join(geom, left = TRUE, var1[length(var1)])\n",
    "    SF_trcts_var1 <- group_by(SF_trcts_var1, DIVISION_N)\n",
    "    SF_trcts_var1 <- summarise(SF_trcts_var1, treecount = sum(treecount))\n",
    "    #join second variable\n",
    "    SF_trcts_var12 <- st_join(SF_trcts_var1, left = TRUE, var2[length(var2)])\n",
    "    SF_trcts_var12 <- group_by(SF_trcts_var12, DIVISION_N, treecount)\n",
    "    SF_trcts_var12 <- summarise(SF_trcts_var12, crimecount = sum(crimecount))\n",
    "    #join third variable\n",
    "    SF_trcts_var123 <- st_join(SF_trcts_var12, left = TRUE, var3[length(var3)])\n",
    "    SF_trcts_var123 <- group_by(SF_trcts_var123, DIVISION_N, treecount, crimecount)\n",
    "    SF_trcts_var123 <- summarise(SF_trcts_var123, lightcount = sum(lightcount))\n",
    "    #join fourth variable\n",
    "    SF_trcts_var1234 <- st_join(SF_trcts_var123, left = TRUE, var4[length(var4)])\n",
    "    SF_trcts_var1234 <- group_by(SF_trcts_var1234, DIVISION_N, treecount, crimecount, lightcount)\n",
    "    SF_trcts_var1234 <- summarise(SF_trcts_var1234, trashcount = sum(trashcount))\n",
    "\n",
    "    #replace NA values with 0 (meaning that the count for a given var is 0 if there was no point within a polygon)\n",
    "    SF_trcts_var1234[is.na(SF_trcts_var1234)] <- 0\n",
    "    SF_trcts_vars <- SF_trcts_var1234\n",
    "   return(SF_trcts_vars)\n",
    "}"
   ]
  },
  {
   "cell_type": "code",
   "execution_count": 36,
   "metadata": {},
   "outputs": [
    {
     "name": "stderr",
     "output_type": "stream",
     "text": [
      "although coordinates are longitude/latitude, st_intersects assumes that they are planar\n",
      "although coordinates are longitude/latitude, st_intersects assumes that they are planar\n",
      "although coordinates are longitude/latitude, st_intersects assumes that they are planar\n",
      "although coordinates are longitude/latitude, st_intersects assumes that they are planar\n"
     ]
    },
    {
     "name": "stdout",
     "output_type": "stream",
     "text": [
      "Writing layer `PH_prcnts_vars' to data source `Data/Philadelphia/ProcessedData/PH_prcnts_vars.shp' using driver `ESRI Shapefile'\n",
      "Writing 1703 features with 5 fields and geometry type Polygon.\n"
     ]
    }
   ],
   "source": [
    "#running our spatial join function for Los Angeles\n",
    "PH_prcnts_vars <- PH_prcnts_varsfunc(PH_prcnts, PH_trees, PH_crime, PH_streetlights, PH_trashcans)\n",
    "#save file\n",
    "st_write(PH_prcnts_vars, \"Data/Philadelphia/ProcessedData/PH_prcnts_vars.shp\")"
   ]
  },
  {
   "cell_type": "code",
   "execution_count": 38,
   "metadata": {},
   "outputs": [
    {
     "name": "stdout",
     "output_type": "stream",
     "text": [
      "Writing layer `PH_prcnts_vars_norm' to data source `Data/Philadelphia/ProcessedData/PH_prcnts_vars_norm.shp' using driver `ESRI Shapefile'\n",
      "Writing 1703 features with 6 fields and geometry type Polygon.\n"
     ]
    }
   ],
   "source": [
    "#first we calculate the area of each tract in km2\n",
    "PH_prcnts_vars$km2 <- as.numeric((st_area(PH_prcnts_vars)/1000000))\n",
    "#next we divide each variable by the tract area\n",
    "PH_prcnts_vars$crimecount <- PH_prcnts_vars$crimecount/PH_prcnts_vars$km2\n",
    "PH_prcnts_vars$lightcount <- PH_prcnts_vars$lightcount/PH_prcnts_vars$km2\n",
    "PH_prcnts_vars$trashcount <- PH_prcnts_vars$trashcount/PH_prcnts_vars$km2\n",
    "PH_prcnts_vars$treecount <- PH_prcnts_vars$treecount/PH_prcnts_vars$km2\n",
    "#reorder dataframe\n",
    "PH_prcnts_vars <- PH_prcnts_vars[,c('treecount','crimecount','lightcount','trashcount', 'DIVISION_N', 'geometry', 'km2')]\n",
    "#save file\n",
    "st_write(PH_prcnts_vars, \"Data/Philadelphia/ProcessedData/PH_prcnts_vars_norm.shp\")"
   ]
  },
  {
   "cell_type": "markdown",
   "metadata": {},
   "source": [
    "### 1.4 Washington DC"
   ]
  },
  {
   "cell_type": "code",
   "execution_count": 446,
   "metadata": {},
   "outputs": [
    {
     "name": "stdout",
     "output_type": "stream",
     "text": [
      "Reading layer `Street_Lights' from data source `C:\\Users\\Leonardo\\Documents\\TU_Delft\\EPA_Year1\\EPA1315\\FinalProject\\Data\\DC\\StreetLights\\Street_Lights.shp' using driver `ESRI Shapefile'\n",
      "Simple feature collection with 70829 features and 50 fields\n",
      "geometry type:  POINT\n",
      "dimension:      XY\n",
      "bbox:           xmin: -77.11656 ymin: 38.80571 xmax: -76.90958 ymax: 38.99534\n",
      "epsg (SRID):    4326\n",
      "proj4string:    +proj=longlat +datum=WGS84 +no_defs\n",
      "Reading layer `Litter_Cans' from data source `C:\\Users\\Leonardo\\Documents\\TU_Delft\\EPA_Year1\\EPA1315\\FinalProject\\Data\\DC\\TrashCans\\Litter_Cans.shp' using driver `ESRI Shapefile'\n",
      "Simple feature collection with 6703 features and 22 fields\n",
      "geometry type:  POINT\n",
      "dimension:      XY\n",
      "bbox:           xmin: -77.11191 ymin: 38.81882 xmax: -76.91069 ymax: 38.9916\n",
      "epsg (SRID):    4326\n",
      "proj4string:    +proj=longlat +datum=WGS84 +no_defs\n",
      "Reading layer `Urban_Forestry_Street_Trees' from data source `C:\\Users\\Leonardo\\Documents\\TU_Delft\\EPA_Year1\\EPA1315\\FinalProject\\Data\\DC\\Trees\\Urban_Forestry_Street_Trees.shp' using driver `ESRI Shapefile'\n",
      "replacing null geometries with empty geometries\n",
      "Simple feature collection with 187790 features and 36 fields (with 2 geometries empty)\n",
      "geometry type:  POINT\n",
      "dimension:      XY\n",
      "bbox:           xmin: -81.52025 ymin: 37.58328 xmax: -76.90923 ymax: 38.99593\n",
      "epsg (SRID):    4326\n",
      "proj4string:    +proj=longlat +datum=WGS84 +no_defs\n",
      "Reading layer `Census_Blocks__2010' from data source `C:\\Users\\Leonardo\\Documents\\TU_Delft\\EPA_Year1\\EPA1315\\FinalProject\\Data\\DC\\CensusBlocks\\Census_Blocks__2010.shp' using driver `ESRI Shapefile'\n",
      "Simple feature collection with 6507 features and 59 fields\n",
      "geometry type:  MULTIPOLYGON\n",
      "dimension:      XY\n",
      "bbox:           xmin: -77.11976 ymin: 38.79165 xmax: -76.9094 ymax: 38.99581\n",
      "epsg (SRID):    4326\n",
      "proj4string:    +proj=longlat +datum=WGS84 +no_defs\n",
      "Reading layer `Voting_Precinct__2012' from data source `C:\\Users\\Leonardo\\Documents\\TU_Delft\\EPA_Year1\\EPA1315\\FinalProject\\Data\\DC\\Precincts\\Voting_Precinct__2012.shp' using driver `ESRI Shapefile'\n",
      "Simple feature collection with 143 features and 6 fields\n",
      "geometry type:  MULTIPOLYGON\n",
      "dimension:      XY\n",
      "bbox:           xmin: -77.11979 ymin: 38.79164 xmax: -76.90915 ymax: 38.99597\n",
      "epsg (SRID):    4326\n",
      "proj4string:    +proj=longlat +datum=WGS84 +no_defs\n",
      "Reading layer `Crime_Incidents_in_2018' from data source `C:\\Users\\Leonardo\\Documents\\TU_Delft\\EPA_Year1\\EPA1315\\FinalProject\\Data\\DC\\Crime\\Crime_Incidents_in_2018.shp' using driver `ESRI Shapefile'\n",
      "Simple feature collection with 33783 features and 23 fields\n",
      "geometry type:  POINT\n",
      "dimension:      XY\n",
      "bbox:           xmin: -77.11232 ymin: 38.81467 xmax: -76.91002 ymax: 38.9937\n",
      "epsg (SRID):    4326\n",
      "proj4string:    +proj=longlat +datum=WGS84 +no_defs\n",
      "Reading layer `Crime_Incidents_in_2019' from data source `C:\\Users\\Leonardo\\Documents\\TU_Delft\\EPA_Year1\\EPA1315\\FinalProject\\Data\\DC\\Crime\\Crime_Incidents_in_2019.shp' using driver `ESRI Shapefile'\n",
      "Simple feature collection with 28298 features and 23 fields\n",
      "geometry type:  POINT\n",
      "dimension:      XY\n",
      "bbox:           xmin: -77.11414 ymin: 38.81939 xmax: -76.91002 ymax: 38.9937\n",
      "epsg (SRID):    4326\n",
      "proj4string:    +proj=longlat +datum=WGS84 +no_defs\n"
     ]
    }
   ],
   "source": [
    "#now let's import data for Los Angeles\n",
    "#Open DC public streetlights\n",
    "DC_streetlights <- st_read(\"Data/DC/StreetLights/Street_Lights.shp\")\n",
    "#open DC trashcans\n",
    "DC_trashcans <- st_read(\"Data/DC/TrashCans/Litter_Cans.shp\")\n",
    "#open DC trees\n",
    "DC_trees <- st_read(\"Data/DC/Trees/Urban_Forestry_Street_Trees.shp\")\n",
    "#open DC census blocks\n",
    "DC_blocks <- st_read(\"Data/DC/CensusBlocks/Census_Blocks__2010.shp\")\n",
    "#open DC precincts\n",
    "DC_prcnts <- st_read(\"Data/DC/Precincts/Voting_Precinct__2012.shp\")\n",
    "#open DC crime\n",
    "DC_crime_2018 <- st_read(\"Data/DC/Crime/Crime_Incidents_in_2018.shp\")\n",
    "DC_crime_2019 <- st_read(\"Data/DC/Crime/Crime_Incidents_in_2019.shp\")"
   ]
  },
  {
   "cell_type": "code",
   "execution_count": 449,
   "metadata": {},
   "outputs": [],
   "source": [
    "#now let's clean up our layers to include only columns of interest\n",
    "#census blocks layer\n",
    "DC_blocks <- select(DC_blocks, 'GEOID', 'geometry')\n",
    "#precincts layer\n",
    "DC_prcnts <- select(DC_prcnts, 'NAME', 'geometry')\n",
    "#merge big belly and wire trashcans\n",
    "DC_trashcans <- select(DC_trashcans, 'LITTERID', 'geometry')\n",
    "DC_trashcans$trashcount <- 1\n",
    "#streetlights\n",
    "DC_streetlights <- select(DC_streetlights, 'WARD', 'geometry')\n",
    "DC_streetlights$lightcount <- 1\n",
    "#trees\n",
    "DC_trees <- select(DC_trees, 'WARD', 'geometry')\n",
    "DC_trees$treecount <- 1\n",
    "#crime\n",
    "#merge DC_crime_2018 and 2019\n",
    "DC_crime <-  rbind(select(DC_crime_2018, 'WARD', 'geometry'), select(DC_crime_2018, 'WARD', 'geometry'))\n",
    "DC_crime$crimecount <- 1"
   ]
  },
  {
   "cell_type": "code",
   "execution_count": 451,
   "metadata": {},
   "outputs": [],
   "source": [
    "#let's write a function that takes in all the variables, perform spatial joins on points inside census tracts, and summarizes by census tract \n",
    "DC_prcnts_varsfunc <- function(geom, var1, var2, var3, var4) {\n",
    "    #var1=trees; var2=crime; var3=streetlights; var4=trashcans\n",
    "    #join first variable\n",
    "    SF_trcts_var1 <- st_join(geom, left = TRUE, var1[length(var1)])\n",
    "    SF_trcts_var1 <- group_by(SF_trcts_var1, NAME)\n",
    "    SF_trcts_var1 <- summarise(SF_trcts_var1, treecount = sum(treecount))\n",
    "    #join second variable\n",
    "    SF_trcts_var12 <- st_join(SF_trcts_var1, left = TRUE, var2[length(var2)])\n",
    "    SF_trcts_var12 <- group_by(SF_trcts_var12, NAME, treecount)\n",
    "    SF_trcts_var12 <- summarise(SF_trcts_var12, crimecount = sum(crimecount))\n",
    "    #join third variable\n",
    "    SF_trcts_var123 <- st_join(SF_trcts_var12, left = TRUE, var3[length(var3)])\n",
    "    SF_trcts_var123 <- group_by(SF_trcts_var123, NAME, treecount, crimecount)\n",
    "    SF_trcts_var123 <- summarise(SF_trcts_var123, lightcount = sum(lightcount))\n",
    "    #join fourth variable\n",
    "    SF_trcts_var1234 <- st_join(SF_trcts_var123, left = TRUE, var4[length(var4)])\n",
    "    SF_trcts_var1234 <- group_by(SF_trcts_var1234, NAME, treecount, crimecount, lightcount)\n",
    "    SF_trcts_var1234 <- summarise(SF_trcts_var1234, trashcount = sum(trashcount))\n",
    "\n",
    "    #replace NA values with 0 (meaning that the count for a given var is 0 if there was no point within a polygon)\n",
    "    SF_trcts_var1234[is.na(SF_trcts_var1234)] <- 0\n",
    "    SF_trcts_vars <- SF_trcts_var1234\n",
    "   return(SF_trcts_vars)\n",
    "}"
   ]
  },
  {
   "cell_type": "code",
   "execution_count": null,
   "metadata": {},
   "outputs": [],
   "source": [
    "#running our spatial join function for Los Angeles\n",
    "DC_prcnts_vars <- DC_prcnts_varsfunc(DC_prcnts, DC_trees, DC_crime, DC_streetlights, DC_trashcans)\n",
    "#save file\n",
    "st_write(DC_prcnts_vars, \"Data/DC/ProcessedData/DC_prcnts_vars.shp\")"
   ]
  },
  {
   "cell_type": "code",
   "execution_count": null,
   "metadata": {},
   "outputs": [],
   "source": [
    "#normalizing by population\n",
    "#next we divide each variable by population\n",
    "#DC_prcnts_vars$crimecount <- DC_prcnts_vars$crimecount/DC_prcnts_vars$P0010001\n",
    "#DC_prcnts_vars$lightcount <- DC_prcnts_vars$lightcount/DC_prcnts_vars$P0010001\n",
    "#DC_prcnts_vars$trashcount <- DC_prcnts_vars$trashcount/DC_prcnts_vars$P0010001\n",
    "#DC_prcnts_vars$treecount <- DC_prcnts_vars$treecount/DC_prcnts_vars$P0010001\n",
    "#reorder dataframe\n",
    "#DC_prcnts_vars <- DC_prcnts_vars[,c('treecount','crimecount','lightcount','trashcount', 'geometry', 'P0010001')]\n",
    "#save file\n",
    "#st_write(DC_prcnts_vars, \"Data/DC/ProcessedData/DC_blocks_vars_popnorm.shp\")"
   ]
  },
  {
   "cell_type": "code",
   "execution_count": 272,
   "metadata": {},
   "outputs": [],
   "source": [
    "#first we calculate the area of each precinct in km2\n",
    "DC_prcnts_vars$km2 <- as.numeric((st_area(DC_prcnts_vars)/1000000))\n",
    "#next we divide each variable by the tract area\n",
    "DC_prcnts_vars$crimecount <- DC_prcnts_vars$crimecount/DC_prcnts_vars$km2\n",
    "DC_prcnts_vars$lightcount <- DC_prcnts_vars$lightcount/DC_prcnts_vars$km2\n",
    "DC_prcnts_vars$trashcount <- DC_prcnts_vars$trashcount/DC_prcnts_vars$km2\n",
    "DC_prcnts_vars$treecount <- DC_prcnts_vars$treecount/DC_prcnts_vars$km2\n",
    "#reorder dataframe\n",
    "DC_prcnts_vars <- DC_prcnts_vars[,c('treecount','crimecount','lightcount','trashcount', 'geometry', 'km2')]\n",
    "#save file\n",
    "st_write(DC_prcnts_vars, \"Data/DC/ProcessedData/DC_prcnts_vars_norm.shp\")"
   ]
  },
  {
   "cell_type": "markdown",
   "metadata": {},
   "source": [
    "### 1.5 Boston"
   ]
  },
  {
   "cell_type": "code",
   "execution_count": null,
   "metadata": {},
   "outputs": [],
   "source": [
    "#Now let's import data for Boston\n",
    "\n",
    "#Open Boston public streetlights\n",
    "BO_streetlights <- st_read(\"Data/Boston/StreetLights/geo_export_6d166c39-621f-4ca5-8fa9-6de277c48821.shp\")\n",
    "#Open Boston trashcans\n",
    "BO_trashcans <- read.csv(\"Data/Boston/TrashCans/big-belly-locations.csv\")\n",
    "#Open Boston trees\n",
    "BO_trees <- st_read(\"Data/Boston/Trees/Trees.shp\")\n",
    "#Open Boston precincts\n",
    "BO_prcnts <- st_read(\"Data/Boston/Precincts/Precincts_2017.shp\")\n",
    "#Open Boston crime\n",
    "BO_crime <- read.csv(\"Data/Boston/Crime/tmp2a1yu35_.csv\")"
   ]
  },
  {
   "cell_type": "code",
   "execution_count": null,
   "metadata": {},
   "outputs": [],
   "source": [
    "#Convert csv files to shapefile (with minor clean)\n",
    "\n",
    "#Crime\n",
    "#Subset BO_crime for 2018 and onwards\n",
    "BO_crime <- subset(BO_crime, BO_crime['YEAR'] == '2018' | BO_crime['YEAR'] == '2019')\n",
    "#Get rid of NA values for lat and long\n",
    "BO_crime <-subset(BO_crime, is.na(BO_crime$Long)==FALSE)\n",
    "BO_crime <- BO_crime[, c('Lat', 'Long', 'INCIDENT_NUMBER')]\n",
    "#Convert crime csv to geospatial object\n",
    "BO_crime <- st_as_sf(BO_crime, coords = c(\"Lat\", \"Long\"), \n",
    "                     crs = 4326, agr = \"constant\")\n",
    "#Write and read BO_crime shapefile\n",
    "st_write(BO_crime,'Data/Boston/Crime/Crime_Data_from_2018_to_Present.shp')\n",
    "BO_crime <- st_read('Data/Boston/Crime/Crime_Data_from_2018_to_Present.shp')\n",
    "#Trashcans\n",
    "#Create columns \"Lat\" and \"Long\" from \"Location\"\n",
    "BO_trashcans <- BO_trashcans %>% separate('Location', into = paste0('Location', 1:2 ), sep = ',')\n",
    "BO_trashcans$Long <- stringr::str_replace(BO_trashcans$Location1, '\\\\(', '')\n",
    "BO_trashcans$Lat <- stringr::str_replace(BO_trashcans$Location2, '\\\\)', '')\n",
    "#Convert Long and Lat to numeric\n",
    "BO_trashcans$Long<- as.numeric(BO_trashcans$Long)\n",
    "BO_trashcans$Lat<- as.numeric(BO_trashcans$Lat)\n",
    "#Remove unneeded columns\n",
    "BO_trashcans <- select(BO_trashcans, 'description', 'Lat', 'Long')\n",
    "#Get rid of NA values for location\n",
    "BO_trashcans <- subset(BO_trashcans, is.na(BO_trashcans$Lat)==FALSE)\n",
    "#Convert crime csv to geospatial object\n",
    "BO_trashcans <- st_as_sf(BO_trashcans, coords = c(\"Lat\", \"Long\"), \n",
    "                     crs = 4326, agr = \"constant\")\n",
    "#Check structure of BO_trashcans\n",
    "str(BO_trashcans)\n",
    "#Write and read BO_trashcans shapefile\n",
    "st_write(BO_trashcans,'Data/Boston/TrashCans/TrashCans.shp')\n",
    "BO_trashcans <- st_read('Data/Boston/TrashCans/TrashCans.shp')"
   ]
  },
  {
   "cell_type": "code",
   "execution_count": null,
   "metadata": {},
   "outputs": [],
   "source": [
    "#Check coordinate systems\n",
    "st_crs(BO_streetlights)\n",
    "st_crs(BO_trashcans)\n",
    "st_crs(BO_trees)\n",
    "st_crs(BO_prcnts)\n",
    "st_crs(BO_crime)\n",
    "\n",
    "#Reproject to common coordinate systems\n",
    "#Reproject streetlights to common coordinate system\n",
    "BO_streetlights <- st_transform(BO_streetlights, \"+proj=longlat +datum=WGS84 +no_defs\")\n",
    "\n",
    "#Check that all spatial layers are in the same coordinate system\n",
    "st_crs(BO_streetlights)\n",
    "st_crs(BO_trashcans)\n",
    "st_crs(BO_trees)\n",
    "st_crs(BO_prcnts)\n",
    "st_crs(BO_crime)"
   ]
  },
  {
   "cell_type": "code",
   "execution_count": null,
   "metadata": {},
   "outputs": [],
   "source": [
    "#Now let's clean up our layers to include only columns of interest\n",
    "#Crime\n",
    "#Add crime count column\n",
    "BO_crime$crimecount <- 1\n",
    "#Precincts layer\n",
    "BO_prcnts <- select(BO_prcnts, 'WARD_PRECI', 'geometry')\n",
    "#Trashcans\n",
    "#Add trash count column\n",
    "BO_trashcans$trashcount <- 1\n",
    "#Streetlights\n",
    "BO_streetlights <- select(BO_streetlights, 'objectid', 'geometry')\n",
    "BO_streetlights$lightcount <- 1\n",
    "#Trees\n",
    "BO_trees <- select(BO_trees, 'OBJECTID', 'geometry')\n",
    "BO_trees$treecount <- 1"
   ]
  },
  {
   "cell_type": "code",
   "execution_count": null,
   "metadata": {},
   "outputs": [],
   "source": [
    "#Let's write a function that takes in all the variables, perform spatial joins on points inside voting precinct, \n",
    "#and summarizes by voting precinct \n",
    "BO_prcnts_varsfunc <- function(geom, var1, var2, var3, var4) {\n",
    "  #var1=trees; var2=crime; var3=streetlights; var4=trashcans\n",
    "  \n",
    "  #Join first variable\n",
    "  geom_var1 <- st_join(geom, left = TRUE, var1[length(var1)])\n",
    "  geom_var1 <- group_by(geom_var1, WARD_PRECI)\n",
    "  geom_var1 <- summarise(geom_var1, treecount = sum(treecount))\n",
    "  #Join second variable\n",
    "  geom_var12 <- st_join(geom_var1, left = TRUE, var2[length(var2)])\n",
    "  geom_var12 <- group_by(geom_var12, WARD_PRECI, treecount)\n",
    "  geom_var12 <- summarise(geom_var12, crimecount = sum(crimecount))\n",
    "  #Join third variable\n",
    "  geom_var123 <- st_join(geom_var12, left = TRUE, var3[length(var3)])\n",
    "  geom_var123 <- group_by(geom_var123, WARD_PRECI, treecount, crimecount)\n",
    "  geom_var123 <- summarise(geom_var123, lightcount = sum(lightcount))\n",
    "  #Join fourth variable\n",
    "  geom_var1234 <- st_join(geom_var123, left = TRUE, var4[length(var4)])\n",
    "  geom_var1234 <- group_by(geom_var1234, WARD_PRECI, treecount, crimecount, lightcount)\n",
    "  geom_var1234 <- summarise(geom_var1234, trashcount = sum(trashcount))\n",
    "  \n",
    "  #Replace NA values with 0 (meaning that the count for a given var is 0 if there was no point within a polygon)\n",
    "  geom_var1234[is.na(geom_var1234)] <- 0\n",
    "  geom_vars <- geom_var1234\n",
    "  return(geom_vars)\n",
    "}"
   ]
  },
  {
   "cell_type": "code",
   "execution_count": null,
   "metadata": {},
   "outputs": [],
   "source": [
    "#Running our spatial join function for Washington DC\n",
    "BO_prcnts_vars <- BO_prcnts_varsfunc(BO_prcnts, BO_trees, BO_crime, BO_streetlights, BO_trashcans)\n",
    "#Save file\n",
    "#st_write(BO_prcnts_vars, \"Data/Boston/ProcessedData/BO_prcnts_vars.shp\")"
   ]
  },
  {
   "cell_type": "code",
   "execution_count": null,
   "metadata": {},
   "outputs": [],
   "source": [
    "#Running our spatial join function for Washington DC\n",
    "BO_prcnts_vars <- BO_prcnts_varsfunc(BO_prcnts, BO_trees, BO_crime, BO_streetlights, BO_trashcans)\n",
    "#Save file\n",
    "st_write(BO_prcnts_vars, \"Data/Boston/ProcessedData/BO_prcnts_vars.shp\")\n",
    "\n",
    "#First we calculate the area of each precinct in km2\n",
    "BO_prcnts_vars$km2 <- as.numeric((st_area(BO_prcnts_vars)/1000000))\n",
    "#Next we divide each variable by the tract area\n",
    "BO_prcnts_vars$crimecount <- BO_prcnts_vars$crimecount/BO_prcnts_vars$km2\n",
    "BO_prcnts_vars$lightcount <- BO_prcnts_vars$lightcount/BO_prcnts_vars$km2\n",
    "BO_prcnts_vars$trashcount <- BO_prcnts_vars$trashcount/BO_prcnts_vars$km2\n",
    "BO_prcnts_vars$treecount <- BO_prcnts_vars$treecount/BO_prcnts_vars$km2\n",
    "#Reorder dataframe\n",
    "BO_prcnts_vars <- BO_prcnts_vars[,c('treecount','crimecount','lightcount','trashcount', 'WARD_PRECI', 'geometry', 'km2')]\n",
    "#Save file\n",
    "st_write(BO_prcnts_vars, \"Data/Boston/ProcessedData/Boston_prcnts_vars_norm.shp\")"
   ]
  },
  {
   "cell_type": "markdown",
   "metadata": {},
   "source": [
    "### 1.5 Merging all the cities into one dataset"
   ]
  },
  {
   "cell_type": "code",
   "execution_count": null,
   "metadata": {},
   "outputs": [],
   "source": [
    "SF_prcnts_vars <- st_read(\"Data/SF/ProcessedData/SF_prcnts_vars_norm.shp\")\n",
    "LA_prcnts_vars <- st_read(\"Data/LA/ProcessedData/LA_prcnts_vars_norm.shp\")\n",
    "PH_prcnts_vars <- st_read(\"Data/Philadelphia/ProcessedData/PH_prcnts_vars_norm.shp\")\n",
    "DC_prcnts_vars <- st_read(\"Data/DC/ProcessedData/DC_prcnts_vars_norm.shp\")\n",
    "BO_prcnts_vars <- st_read(\"Data/Boston/ProcessedData/Boston_prcnts_vars_norm.shp\")"
   ]
  },
  {
   "cell_type": "code",
   "execution_count": 425,
   "metadata": {},
   "outputs": [],
   "source": [
    "#add city name column to each city\n",
    "#SF_prcnts_vars$CITY <- \"San Francisco\"\n",
    "#LA_prcnts_vars$CITY <- \"Los Angeles\"\n",
    "#PH_prcnts_vars$CITY <- \"Philadelphia\"\n",
    "#DC_prcnts_vars$CITY <- \"Washington DC\"\n",
    "\n",
    "#select only common columns\n",
    "BO_prcnts_vars <- BO_prcnts_vars[, c('treecount','crimecount','lightcount','trashcount', 'geometry','km2')]\n",
    "SF_prcnts_vars <- SF_prcnts_vars[, c('treecount','crimecount','lightcount','trashcount','CITY', 'geometry','km2')]\n",
    "LA_prcnts_vars <- LA_prcnts_vars[, c('treecount','crimecount','lightcount','trashcount','CITY', 'geometry','km2')]\n",
    "PH_prcnts_vars <- PH_prcnts_vars[, c('treecount','crimecount','lightcount','trashcount','CITY', 'geometry','km2')]\n",
    "DC_prcnts_vars <- DC_prcnts_vars[, c('treecount','crimecount','lightcount','trashcount','CITY', 'geometry','km2')]"
   ]
  },
  {
   "cell_type": "code",
   "execution_count": 136,
   "metadata": {},
   "outputs": [
    {
     "name": "stdout",
     "output_type": "stream",
     "text": [
      "Writing layer `SF_LA_PH_DC_prcnts_vars' to data source `Data/AllCities/Spatial/SF_LA_PH_DC_prcnts_vars.shp' using driver `ESRI Shapefile'\n",
      "Writing 4077 features with 6 fields and geometry type Unknown (any).\n"
     ]
    }
   ],
   "source": [
    "#bind all cities row wise\n",
    "SF_LA_PH_DC_prcnts_vars <- rbind(SF_prcnts_vars, LA_prcnts_vars, PH_prcnts_vars, DC_prcnts_vars)\n",
    "#bind all cities except philadelphia row wise\n",
    "SF_LA_DC_prcnts_vars <- rbind(SF_prcnts_vars, LA_prcnts_vars, DC_prcnts_vars)\n",
    "\n",
    "SF_LA_PH_DC_prcnts_vars$CITY <- as.factor(SF_LA_PH_DC_prcnts_vars$CITY)\n",
    "st_write(SF_LA_PH_DC_prcnts_vars, 'Data/AllCities/Spatial/SF_LA_PH_DC_prcnts_vars.shp')"
   ]
  },
  {
   "cell_type": "code",
   "execution_count": 427,
   "metadata": {},
   "outputs": [],
   "source": [
    "#convert to dataframes and write tables\n",
    "st_geometry(BO_prcnts_vars) <- NULL\n",
    "st_geometry(SF_LA_PH_DC_prcnts_vars) <- NULL\n",
    "#all\n",
    "write.csv(SF_LA_PH_DC_prcnts_vars, file = 'Data/AllCities/Tables/SF_LA_PH_DC_prcnts_vars.csv')\n",
    "#SF\n",
    "write.csv(SF_prcnts_vars, file = 'Data/AllCities/Tables/SF_prcnts_vars.csv')\n",
    "#LA\n",
    "write.csv(LA_prcnts_vars, file = 'Data/AllCities/Tables/LA_prcnts_vars.csv')\n",
    "#PH\n",
    "write.csv(PH_prcnts_vars, file = 'Data/AllCities/Tables/PH_prcnts_vars.csv')\n",
    "#DC\n",
    "write.csv(DC_prcnts_vars, file = 'Data/AllCities/Tables/DC_prcnts_vars.csv')\n",
    "#Boston\n",
    "write.csv(BO_prcnts_vars, file = 'Data/AllCities/Tables/BO_prcnts_vars.csv')"
   ]
  },
  {
   "cell_type": "code",
   "execution_count": 7,
   "metadata": {},
   "outputs": [],
   "source": [
    "#row bind data and write final file\n",
    "SF_LA_PH_DC_BO_prcnts_vars <- rbind(SF_prcnts_vars, LA_prcnts_vars, \n",
    "                                           PH_prcnts_vars, DC_prcnts_vars, BO_prcnts_vars)\n",
    "#create 5 dummy columns (1 and 0 for cities, same for precinct) to capture fixed effects of city and precinct\n",
    "#create dummy columns for each city\n",
    "SF_LA_PH_DC_BO_prcnts_vars <- fastDummies::dummy_cols(SF_LA_PH_DC_BO_prcnts_vars, select_columns = \"CITY\")\n",
    "#SF_LA_PH_DC_BO_prcnts_vars <- subset(SF_LA_PH_DC_BO_prcnts_vars_clnorm, SF_LA_PH_DC_BO_prcnts_vars_clnorm$crimecount < 1)\n",
    "write.csv(SF_LA_PH_DC_BO_prcnts_vars, file = 'Data/AllCities/Tables/SF_LA_PH_DC_BO_prcnts_vars.csv')"
   ]
  },
  {
   "cell_type": "markdown",
   "metadata": {},
   "source": [
    "### Map of US crime by county"
   ]
  },
  {
   "cell_type": "code",
   "execution_count": 14,
   "metadata": {},
   "outputs": [
    {
     "name": "stdout",
     "output_type": "stream",
     "text": [
      "Reading layer `tl_2016_us_county' from data source `C:\\Users\\Leonardo\\Documents\\TU_Delft\\EPA_Year1\\EPA1315\\FinalProject\\Data\\County\\tl_2016_us_county.shp' using driver `ESRI Shapefile'\n",
      "Simple feature collection with 3233 features and 17 fields\n",
      "geometry type:  MULTIPOLYGON\n",
      "dimension:      XY\n",
      "bbox:           xmin: -179.2311 ymin: -14.60181 xmax: 179.8597 ymax: 71.44106\n",
      "epsg (SRID):    4269\n",
      "proj4string:    +proj=longlat +datum=NAD83 +no_defs\n"
     ]
    }
   ],
   "source": [
    "US_counties <- st_read('data/County/tl_2016_us_county.shp')\n",
    "county_crime <- read.csv('data/County/crime_data_w_population_and_crime_rate.csv')"
   ]
  },
  {
   "cell_type": "code",
   "execution_count": 15,
   "metadata": {},
   "outputs": [
    {
     "name": "stderr",
     "output_type": "stream",
     "text": [
      "Warning message in abbreviate_shapefile_names(obj):\n",
      "\"Field names abbreviated for ESRI Shapefile driver\""
     ]
    },
    {
     "name": "stdout",
     "output_type": "stream",
     "text": [
      "Writing layer `UScounty_crimes' to data source `Data/County/UScounty_crimes.shp' using driver `ESRI Shapefile'\n",
      "Writing 14525 features with 2 fields and geometry type Multi Polygon.\n"
     ]
    }
   ],
   "source": [
    "#separate county name and state\n",
    "county_crime <- county_crime %>% separate('county_name', into = paste0('county_name', 1:2), sep = ',')\n",
    "UScounty_crimes <- merge(US_counties, county_crime, by.x = 'NAMELSAD', by.y = 'county_name1')\n",
    "UScounty_crimes <- UScounty_crimes[, c('crime_rate_per_100000', 'NAME')]\n",
    "UScounty_crimes <- st_transform(UScounty_crimes, \"+proj=aea +lat_1=29.5 +lat_2=45.5 +lat_0=37.5 +lon_0=-96 +x_0=0 +y_0=0 +datum=NAD83 +units=m +no_defs\")\n",
    "st_write(UScounty_crimes, 'Data/County/UScounty_crimes.shp')"
   ]
  }
 ],
 "metadata": {
  "kernelspec": {
   "display_name": "Python 3",
   "language": "python",
   "name": "python3"
  },
  "language_info": {
   "codemirror_mode": {
    "name": "ipython",
    "version": 3
   },
   "file_extension": ".py",
   "mimetype": "text/x-python",
   "name": "python",
   "nbconvert_exporter": "python",
   "pygments_lexer": "ipython3",
   "version": "3.7.3"
  }
 },
 "nbformat": 4,
 "nbformat_minor": 4
}
